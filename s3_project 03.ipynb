{
 "cells": [
  {
   "cell_type": "code",
   "execution_count": 7,
   "metadata": {},
   "outputs": [],
   "source": [
    "from pyspark.sql.types import BooleanType\n",
    "from pyspark.sql.functions import udf\n",
    "from pyspark.sql import functions as F\n",
    "from pyspark.sql import SparkSession\n",
    "from pyspark.sql import Window\n",
    "from pyspark.sql.functions import *\n",
    "\n"
   ]
  },
  {
   "cell_type": "code",
   "execution_count": 8,
   "metadata": {},
   "outputs": [],
   "source": [
    "spark = SparkSession.builder.getOrCreate()"
   ]
  },
  {
   "cell_type": "code",
   "execution_count": 9,
   "metadata": {},
   "outputs": [],
   "source": [
    "companies = spark.read.csv(\"companies.csv\",header=True,inferSchema=True);\n",
    "alldata = spark.read.csv(\"alldata.csv\",header =True,inferSchema=True)"
   ]
  },
  {
   "cell_type": "code",
   "execution_count": 10,
   "metadata": {},
   "outputs": [
    {
     "name": "stdout",
     "output_type": "stream",
     "text": [
      "+--------------------+--------------------+--------------------+--------------------+--------------------+\n",
      "|            position|             company|         description|             reviews|            location|\n",
      "+--------------------+--------------------+--------------------+--------------------+--------------------+\n",
      "|Development Director|             ALS TDI|Development Director|                null|                null|\n",
      "|ALS Therapy Devel...| the Development ...| generating aware...| prospects and do...|                 GA.|\n",
      "|       Requirements:|                null|                null|                null|                null|\n",
      "|Bachelor's Degree...| written and pres...| as well as the a...|         spreadsheet|            database|\n",
      "|About ALS Therapy...|                null|                null|                null|                null|\n",
      "|The ALS Therapy D...| the charity unde...|  based in Cambridge|                  MA| has served as on...|\n",
      "|            To Apply|                null|                null|                null|                null|\n",
      "|Please apply at h...| salary requireme...|                null|                null|                null|\n",
      "|ALS TDI is an equ...|                null|  Atlanta, GA 30301 |                null|                null|\n",
      "|An Ostentatiously...|  The Hexagon Lavish|     Job Description|                null|                null|\n",
      "+--------------------+--------------------+--------------------+--------------------+--------------------+\n",
      "only showing top 10 rows\n",
      "\n"
     ]
    }
   ],
   "source": [
    "alldata.show(10)"
   ]
  },
  {
   "cell_type": "code",
   "execution_count": 5,
   "metadata": {},
   "outputs": [
    {
     "name": "stdout",
     "output_type": "stream",
     "text": [
      "+--------------------+--------------------+--------------------+--------------------+--------------------+--------------------+---------+--------------------+--------------------+-----------+------------------+------------------+--------------------+--------------------+\n",
      "|              ticker|        company name|          short name|            industry|         description|             website|     logo|                 ceo|            exchange| market cap|            sector|             tag 1|               tag 2|               tag 3|\n",
      "+--------------------+--------------------+--------------------+--------------------+--------------------+--------------------+---------+--------------------+--------------------+-----------+------------------+------------------+--------------------+--------------------+\n",
      "|                   A|Agilent Technolog...|             Agilent|Medical Diagnosti...|Agilent Technolog...|http://www.agilen...|    A.png| Michael R. McMullen|New York Stock Ex...|24218068096|        Healthcare|        Healthcare|Diagnostics & Res...|Medical Diagnosti...|\n",
      "|                  AA|   Alcoa Corporation|               Alcoa|     Metals & Mining|Alcoa Corp is an ...|http://www.alcoa.com|   AA.png|Roy Christopher H...|New York Stock Ex...| 5374966543|   Basic Materials|   Basic Materials|            Aluminum|     Metals & Mining|\n",
      "|                AABA|         Altaba Inc.|              Altaba|    Asset Management|Altaba Inc is an ...|http://www.altaba...| AABA.png| Thomas J. Mcinerney|Nasdaq Global Select|41223683414|Financial Services|Financial Services|    Asset Management|                null|\n",
      "|                 AAC|   AAC Holdings Inc.|                 AAC|Health Care Provi...|AAC Holdings Inc ...|http://www.americ...|     null|Michael T. Cartwr...|New York Stock Ex...|   63720099|        Healthcare|        Healthcare|        Medical Care|Health Care Provi...|\n",
      "|                AADR|AdvisorShares Dor...|AdvisorShares Dor...|                null|The investment se...|                null|     null|                null|                null|       null|              null|              null|                null|                null|\n",
      "| The fund seeks t...| most often Ameri...|http://www.adviso...|            AADR.png|                null|           NYSE Arca|103161180|                null|                null|       null|              null|              null|                null|                null|\n",
      "|                 AAL|American Airlines...|   American Airlines|            Airlines|American Airlines...|   http://www.aa.com|  AAL.png|   W. Douglas Parker|Nasdaq Global Select|16940186209|       Industrials|       Industrials|            Airlines|                null|\n",
      "|                AAMC|Altisource Asset ...|Altisource Asset ...|    Asset Management|Altisource Asset ...|http://www.altiso...|     null|   George G. Ellison|       NYSE American|   44907363|Financial Services|Financial Services|    Asset Management|                null|\n",
      "|                AAME|Atlantic American...|   Atlantic American|    Insurance - Life|Atlantic American...|http://www.atlam.com|     null|    Hilton H. Howell|NASDAQ Global Market|   56558079|Financial Services|Financial Services|    Insurance - Life|                null|\n",
      "|                 AAN|        Aaron's Inc.|             Aaron's|Consulting & Outs...|Aaron's Inc is a ...|http://www.aarons...|  AAN.png|    John W. Robinson|New York Stock Ex...| 3677542512|       Industrials|       Industrials|Rental & Leasing ...|Consulting & Outs...|\n",
      "+--------------------+--------------------+--------------------+--------------------+--------------------+--------------------+---------+--------------------+--------------------+-----------+------------------+------------------+--------------------+--------------------+\n",
      "only showing top 10 rows\n",
      "\n"
     ]
    }
   ],
   "source": [
    "companies.show(10)"
   ]
  },
  {
   "cell_type": "code",
   "execution_count": 14,
   "metadata": {},
   "outputs": [],
   "source": [
    "#ad = alldata.join(companies,companies.['company name'] == alldata.company).select(alldata[\"*\"],companies[\"*\"])\n",
    "\n",
    "#alldata.alias('a').join(companies.alias('b'),col('b.company name') == col('a.company')).select([col('a.'+xx) for xx in a.columns] + [col('b.other1'),col('b.other2')])\n",
    "#alldata = df1.alias('df1')companies = df2.alias('df2')df1.join(df2, df1.company == df2.['company name']).select('df1.*')\n",
    "new_df = companies.join(alldata,companies['company name']==alldata.company)"
   ]
  },
  {
   "cell_type": "code",
   "execution_count": 20,
   "metadata": {},
   "outputs": [
    {
     "name": "stdout",
     "output_type": "stream",
     "text": [
      "+--------------------+---------------+--------------------+--------------------+--------------------+--------------------+---------+---------+---------+----------+------+-----+-----+-----+--------------------+---------------+--------------------+-------------------+--------------------+\n",
      "|              ticker|   company name|          short name|            industry|         description|             website|     logo|      ceo| exchange|market cap|sector|tag 1|tag 2|tag 3|            position|        company|         description|            reviews|            location|\n",
      "+--------------------+---------------+--------------------+--------------------+--------------------+--------------------+---------+---------+---------+----------+------+-----+-----+-----+--------------------+---------------+--------------------+-------------------+--------------------+\n",
      "| The fund general...|         design| production or di...|http://www.invesc...|             PSJ.png|                null|NYSE Arca|300230000|     null|      null|  null| null| null| null|Experience follow...|         design|                code| and defect reviews|                null|\n",
      "| The fund general...|    development|         manufacture| sale or distribu...|http://www.invesc...|             PJP.png|     null|NYSE Arca|476136000|      null|  null| null| null| null|Facilitates the d...|    development| and planning of ...|               null|                null|\n",
      "| The fund general...|    development| manufacture and ...| services and pro...| etc. It is non-d...|http://www.invesc...|  PBE.png|     null|NYSE Arca| 283932000|  null| null| null| null|Facilitates the d...|    development| and planning of ...|               null|                null|\n",
      "| The Shares are i...| transportation| warehousing and ...| they provide inv...|http://www.etfsec...|            SGOL.png|     null|NYSE Arca|886515000|      null|  null| null| null| null|              Travel| transportation| and moving expen...|               null|                null|\n",
      "| The fund general...|    development|         manufacture| sale or distribu...|http://www.invesc...|             PJP.png|     null|NYSE Arca|476136000|      null|  null| null| null| null|Apply health scie...|    development| and conduct of s...|             causes| and risk factors...|\n",
      "| The fund general...|    development| manufacture and ...| services and pro...| etc. It is non-d...|http://www.invesc...|  PBE.png|     null|NYSE Arca| 283932000|  null| null| null| null|Apply health scie...|    development| and conduct of s...|             causes| and risk factors...|\n",
      "| The Shares are i...| transportation| warehousing and ...| they provide inv...|http://www.etfsec...|            SGOL.png|     null|NYSE Arca|886515000|      null|  null| null| null| null|              Travel| transportation| and moving expen...|               null|                null|\n",
      "| The Shares are i...| transportation| warehousing and ...| they provide inv...|http://www.etfsec...|            SGOL.png|     null|NYSE Arca|886515000|      null|  null| null| null| null|              Travel| transportation| and moving expen...|               null|                null|\n",
      "| The fund general...|         design| production or di...|http://www.invesc...|             PSJ.png|                null|NYSE Arca|300230000|     null|      null|  null| null| null| null|he Enterprise Dat...|         design|               build|               test| implement and/or...|\n",
      "| The Shares are i...| transportation| warehousing and ...| they provide inv...|http://www.etfsec...|            SGOL.png|     null|NYSE Arca|886515000|      null|  null| null| null| null|              Travel| transportation| and moving expen...|               null|                null|\n",
      "+--------------------+---------------+--------------------+--------------------+--------------------+--------------------+---------+---------+---------+----------+------+-----+-----+-----+--------------------+---------------+--------------------+-------------------+--------------------+\n",
      "only showing top 10 rows\n",
      "\n"
     ]
    }
   ],
   "source": [
    "new_df.show(10)"
   ]
  },
  {
   "cell_type": "code",
   "execution_count": null,
   "metadata": {},
   "outputs": [],
   "source": []
  },
  {
   "cell_type": "code",
   "execution_count": null,
   "metadata": {},
   "outputs": [],
   "source": []
  }
 ],
 "metadata": {
  "kernelspec": {
   "display_name": "Python 3",
   "language": "python",
   "name": "python3"
  },
  "language_info": {
   "codemirror_mode": {
    "name": "ipython",
    "version": 3
   },
   "file_extension": ".py",
   "mimetype": "text/x-python",
   "name": "python",
   "nbconvert_exporter": "python",
   "pygments_lexer": "ipython3",
   "version": "3.8.3"
  }
 },
 "nbformat": 4,
 "nbformat_minor": 4
}
